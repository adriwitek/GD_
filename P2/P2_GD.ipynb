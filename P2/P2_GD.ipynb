{
 "cells": [
  {
   "cell_type": "markdown",
   "metadata": {},
   "source": [
    "# Gestión de Datos: Práctica 2\n",
    "## Carlos Ramos Mateos y Adrián Rubio Pintado"
   ]
  },
  {
   "cell_type": "markdown",
   "metadata": {},
   "source": [
    "Podemos suponer que los datos se recogen a las 3:00 AM cada día. Para obtener un resultado actualizado, solo hay que re-ejecutar este notebook(o transferir el código a un archivo .py)."
   ]
  },
  {
   "cell_type": "markdown",
   "metadata": {},
   "source": [
    "# Carga de Datos"
   ]
  },
  {
   "cell_type": "markdown",
   "metadata": {},
   "source": [
    "Definimos una lista de valores para que nuestro lector los considere como missing values o valores nulos cuando los lea."
   ]
  },
  {
   "cell_type": "code",
   "execution_count": 21,
   "metadata": {},
   "outputs": [
    {
     "name": "stdout",
     "output_type": "stream",
     "text": [
      "Tamaño del dataset:  187269\n",
      "Dimension del dataset:  (62423, 3)\n"
     ]
    }
   ],
   "source": [
    "import pandas as pd\n",
    "import numpy as np\n",
    "import sys\n",
    "\n",
    "missing_values = [\"n\\a\", \"na\", \"--\", \"NaN\", 'None', '']\n",
    "\n",
    "df_movies = pd.read_csv(\"movies.csv\", na_values = missing_values)\n",
    "\n",
    "print(\"Tamaño del dataset: \", df_movies.size)\n",
    "print(\"Dimension del dataset: \", df_movies.shape)"
   ]
  },
  {
   "cell_type": "code",
   "execution_count": 22,
   "metadata": {},
   "outputs": [
    {
     "data": {
      "text/html": [
       "<div>\n",
       "<style scoped>\n",
       "    .dataframe tbody tr th:only-of-type {\n",
       "        vertical-align: middle;\n",
       "    }\n",
       "\n",
       "    .dataframe tbody tr th {\n",
       "        vertical-align: top;\n",
       "    }\n",
       "\n",
       "    .dataframe thead th {\n",
       "        text-align: right;\n",
       "    }\n",
       "</style>\n",
       "<table border=\"1\" class=\"dataframe\">\n",
       "  <thead>\n",
       "    <tr style=\"text-align: right;\">\n",
       "      <th></th>\n",
       "      <th>movieId</th>\n",
       "      <th>title</th>\n",
       "      <th>genres</th>\n",
       "    </tr>\n",
       "  </thead>\n",
       "  <tbody>\n",
       "    <tr>\n",
       "      <th>0</th>\n",
       "      <td>1</td>\n",
       "      <td>Toy Story (1995)</td>\n",
       "      <td>Adventure|Animation|Children|Comedy|Fantasy</td>\n",
       "    </tr>\n",
       "    <tr>\n",
       "      <th>1</th>\n",
       "      <td>2</td>\n",
       "      <td>Jumanji (1995)</td>\n",
       "      <td>Adventure|Children|Fantasy</td>\n",
       "    </tr>\n",
       "    <tr>\n",
       "      <th>2</th>\n",
       "      <td>3</td>\n",
       "      <td>Grumpier Old Men (1995)</td>\n",
       "      <td>Comedy|Romance</td>\n",
       "    </tr>\n",
       "    <tr>\n",
       "      <th>3</th>\n",
       "      <td>4</td>\n",
       "      <td>Waiting to Exhale (1995)</td>\n",
       "      <td>Comedy|Drama|Romance</td>\n",
       "    </tr>\n",
       "    <tr>\n",
       "      <th>4</th>\n",
       "      <td>5</td>\n",
       "      <td>Father of the Bride Part II (1995)</td>\n",
       "      <td>Comedy</td>\n",
       "    </tr>\n",
       "    <tr>\n",
       "      <th>5</th>\n",
       "      <td>6</td>\n",
       "      <td>Heat (1995)</td>\n",
       "      <td>Action|Crime|Thriller</td>\n",
       "    </tr>\n",
       "    <tr>\n",
       "      <th>6</th>\n",
       "      <td>7</td>\n",
       "      <td>Sabrina (1995)</td>\n",
       "      <td>Comedy|Romance</td>\n",
       "    </tr>\n",
       "    <tr>\n",
       "      <th>7</th>\n",
       "      <td>8</td>\n",
       "      <td>Tom and Huck (1995)</td>\n",
       "      <td>Adventure|Children</td>\n",
       "    </tr>\n",
       "    <tr>\n",
       "      <th>8</th>\n",
       "      <td>9</td>\n",
       "      <td>Sudden Death (1995)</td>\n",
       "      <td>Action</td>\n",
       "    </tr>\n",
       "    <tr>\n",
       "      <th>9</th>\n",
       "      <td>10</td>\n",
       "      <td>GoldenEye (1995)</td>\n",
       "      <td>Action|Adventure|Thriller</td>\n",
       "    </tr>\n",
       "  </tbody>\n",
       "</table>\n",
       "</div>"
      ],
      "text/plain": [
       "   movieId                               title  \\\n",
       "0        1                    Toy Story (1995)   \n",
       "1        2                      Jumanji (1995)   \n",
       "2        3             Grumpier Old Men (1995)   \n",
       "3        4            Waiting to Exhale (1995)   \n",
       "4        5  Father of the Bride Part II (1995)   \n",
       "5        6                         Heat (1995)   \n",
       "6        7                      Sabrina (1995)   \n",
       "7        8                 Tom and Huck (1995)   \n",
       "8        9                 Sudden Death (1995)   \n",
       "9       10                    GoldenEye (1995)   \n",
       "\n",
       "                                        genres  \n",
       "0  Adventure|Animation|Children|Comedy|Fantasy  \n",
       "1                   Adventure|Children|Fantasy  \n",
       "2                               Comedy|Romance  \n",
       "3                         Comedy|Drama|Romance  \n",
       "4                                       Comedy  \n",
       "5                        Action|Crime|Thriller  \n",
       "6                               Comedy|Romance  \n",
       "7                           Adventure|Children  \n",
       "8                                       Action  \n",
       "9                    Action|Adventure|Thriller  "
      ]
     },
     "execution_count": 22,
     "metadata": {},
     "output_type": "execute_result"
    }
   ],
   "source": [
    "df_movies.head(10)"
   ]
  },
  {
   "cell_type": "code",
   "execution_count": 23,
   "metadata": {},
   "outputs": [
    {
     "name": "stdout",
     "output_type": "stream",
     "text": [
      "Tamaño del dataset:  100000380\n",
      "Dimension del dataset:  (25000095, 4)\n"
     ]
    }
   ],
   "source": [
    "df_ratings = pd.read_csv(\"ratings.csv\")\n",
    "df_miss = pd.read_csv(\"ratings.csv\", na_values = missing_values)\n",
    "\n",
    "print(\"Tamaño del dataset: \", df_ratings.size)\n",
    "print(\"Dimension del dataset: \", df_ratings.shape)"
   ]
  },
  {
   "cell_type": "code",
   "execution_count": 24,
   "metadata": {},
   "outputs": [
    {
     "data": {
      "text/html": [
       "<div>\n",
       "<style scoped>\n",
       "    .dataframe tbody tr th:only-of-type {\n",
       "        vertical-align: middle;\n",
       "    }\n",
       "\n",
       "    .dataframe tbody tr th {\n",
       "        vertical-align: top;\n",
       "    }\n",
       "\n",
       "    .dataframe thead th {\n",
       "        text-align: right;\n",
       "    }\n",
       "</style>\n",
       "<table border=\"1\" class=\"dataframe\">\n",
       "  <thead>\n",
       "    <tr style=\"text-align: right;\">\n",
       "      <th></th>\n",
       "      <th>userId</th>\n",
       "      <th>movieId</th>\n",
       "      <th>rating</th>\n",
       "      <th>timestamp</th>\n",
       "    </tr>\n",
       "  </thead>\n",
       "  <tbody>\n",
       "    <tr>\n",
       "      <th>0</th>\n",
       "      <td>1</td>\n",
       "      <td>296</td>\n",
       "      <td>5.0</td>\n",
       "      <td>1147880044</td>\n",
       "    </tr>\n",
       "    <tr>\n",
       "      <th>1</th>\n",
       "      <td>1</td>\n",
       "      <td>306</td>\n",
       "      <td>3.5</td>\n",
       "      <td>1147868817</td>\n",
       "    </tr>\n",
       "    <tr>\n",
       "      <th>2</th>\n",
       "      <td>1</td>\n",
       "      <td>307</td>\n",
       "      <td>5.0</td>\n",
       "      <td>1147868828</td>\n",
       "    </tr>\n",
       "    <tr>\n",
       "      <th>3</th>\n",
       "      <td>1</td>\n",
       "      <td>665</td>\n",
       "      <td>5.0</td>\n",
       "      <td>1147878820</td>\n",
       "    </tr>\n",
       "    <tr>\n",
       "      <th>4</th>\n",
       "      <td>1</td>\n",
       "      <td>899</td>\n",
       "      <td>3.5</td>\n",
       "      <td>1147868510</td>\n",
       "    </tr>\n",
       "    <tr>\n",
       "      <th>5</th>\n",
       "      <td>1</td>\n",
       "      <td>1088</td>\n",
       "      <td>4.0</td>\n",
       "      <td>1147868495</td>\n",
       "    </tr>\n",
       "    <tr>\n",
       "      <th>6</th>\n",
       "      <td>1</td>\n",
       "      <td>1175</td>\n",
       "      <td>3.5</td>\n",
       "      <td>1147868826</td>\n",
       "    </tr>\n",
       "    <tr>\n",
       "      <th>7</th>\n",
       "      <td>1</td>\n",
       "      <td>1217</td>\n",
       "      <td>3.5</td>\n",
       "      <td>1147878326</td>\n",
       "    </tr>\n",
       "    <tr>\n",
       "      <th>8</th>\n",
       "      <td>1</td>\n",
       "      <td>1237</td>\n",
       "      <td>5.0</td>\n",
       "      <td>1147868839</td>\n",
       "    </tr>\n",
       "    <tr>\n",
       "      <th>9</th>\n",
       "      <td>1</td>\n",
       "      <td>1250</td>\n",
       "      <td>4.0</td>\n",
       "      <td>1147868414</td>\n",
       "    </tr>\n",
       "  </tbody>\n",
       "</table>\n",
       "</div>"
      ],
      "text/plain": [
       "   userId  movieId  rating   timestamp\n",
       "0       1      296     5.0  1147880044\n",
       "1       1      306     3.5  1147868817\n",
       "2       1      307     5.0  1147868828\n",
       "3       1      665     5.0  1147878820\n",
       "4       1      899     3.5  1147868510\n",
       "5       1     1088     4.0  1147868495\n",
       "6       1     1175     3.5  1147868826\n",
       "7       1     1217     3.5  1147878326\n",
       "8       1     1237     5.0  1147868839\n",
       "9       1     1250     4.0  1147868414"
      ]
     },
     "execution_count": 24,
     "metadata": {},
     "output_type": "execute_result"
    }
   ],
   "source": [
    "df_ratings.head(10)"
   ]
  },
  {
   "cell_type": "markdown",
   "metadata": {},
   "source": [
    "## Tratamiento y limpieza de los datos"
   ]
  },
  {
   "cell_type": "markdown",
   "metadata": {},
   "source": [
    "Vamos a ver si tenemos missing values mediante isnull() de pandas, que detecta aquellos valores que son NAN o None(incluida la lista de valores que le hemos pasado que considere como missing values)"
   ]
  },
  {
   "cell_type": "code",
   "execution_count": 25,
   "metadata": {},
   "outputs": [
    {
     "data": {
      "text/plain": [
       "movieId    False\n",
       "title      False\n",
       "genres     False\n",
       "dtype: bool"
      ]
     },
     "execution_count": 25,
     "metadata": {},
     "output_type": "execute_result"
    }
   ],
   "source": [
    "df_movies.isnull().any()"
   ]
  },
  {
   "cell_type": "code",
   "execution_count": 26,
   "metadata": {},
   "outputs": [
    {
     "data": {
      "text/plain": [
       "userId       False\n",
       "movieId      False\n",
       "rating        True\n",
       "timestamp    False\n",
       "dtype: bool"
      ]
     },
     "execution_count": 26,
     "metadata": {},
     "output_type": "execute_result"
    }
   ],
   "source": [
    "df_ratings.isnull().any()"
   ]
  },
  {
   "cell_type": "markdown",
   "metadata": {},
   "source": [
    "En el dataset de ratings, vemos como la columna rating si tiene valores nulos, vamos a contabilizarlos."
   ]
  },
  {
   "cell_type": "code",
   "execution_count": 27,
   "metadata": {},
   "outputs": [
    {
     "data": {
      "text/plain": [
       "userId            0\n",
       "movieId           0\n",
       "rating       495115\n",
       "timestamp         0\n",
       "dtype: int64"
      ]
     },
     "execution_count": 27,
     "metadata": {},
     "output_type": "execute_result"
    }
   ],
   "source": [
    "df_ratings.isnull().sum()"
   ]
  },
  {
   "cell_type": "code",
   "execution_count": 36,
   "metadata": {},
   "outputs": [
    {
     "data": {
      "text/plain": [
       "25000095"
      ]
     },
     "execution_count": 36,
     "metadata": {},
     "output_type": "execute_result"
    }
   ],
   "source": [
    "len(df_ratings)"
   ]
  },
  {
   "cell_type": "markdown",
   "metadata": {},
   "source": [
    "Sobre el total de 25000095 valoraciones, tenemos que 495115 no tienen un valor para la puntuación númerica en la escala [1,5]. Es decir, tenemos un"
   ]
  },
  {
   "cell_type": "code",
   "execution_count": 28,
   "metadata": {},
   "outputs": [
    {
     "data": {
      "text/plain": [
       "0.019804524742805977"
      ]
     },
     "execution_count": 28,
     "metadata": {},
     "output_type": "execute_result"
    }
   ],
   "source": [
    "495115/25000095 "
   ]
  },
  {
   "cell_type": "markdown",
   "metadata": {},
   "source": [
    "**0.0198% de valores nulos**"
   ]
  },
  {
   "cell_type": "markdown",
   "metadata": {},
   "source": [
    "Dado que es un porcentaje bastante bajo, para esta situación consideramos eliminar dichos valores nulos. Dada la naturaleza de la columna y del dataset. Lo más probable es que estos valores sean nulos debido a que la gente escribe comentarios sobre una película, pero no le ha dado un rating. Dado que no sabemos la distribución de comentarios escritos respecto al rating, es decir, si la gente escribe más comentarios cuando no le ha gustado una película porque está enfadada o todo lo contrario, tiende a escribir comentarios cuando le ha encantado la película, tal vez remplazar dichos valores por la media de los ratings totales introduzca cierto sesgo.\n",
    "\n",
    "Dado que el porcentaje de datos no llega al 2%, podemos permitirnos eliminar dichos registros."
   ]
  },
  {
   "cell_type": "code",
   "execution_count": 74,
   "metadata": {},
   "outputs": [],
   "source": [
    "df_ratings_1 = df_ratings.dropna()"
   ]
  },
  {
   "cell_type": "code",
   "execution_count": 75,
   "metadata": {},
   "outputs": [
    {
     "data": {
      "text/plain": [
       "24504980"
      ]
     },
     "execution_count": 75,
     "metadata": {},
     "output_type": "execute_result"
    }
   ],
   "source": [
    "len(df_ratings_1)"
   ]
  },
  {
   "cell_type": "markdown",
   "metadata": {},
   "source": [
    "Seguimos con la limpieza de nuestro dataset. Vamos a ver los ratings que no entran dentro del rango de la definición. O lo que es lo mismo, detectar outliers."
   ]
  },
  {
   "cell_type": "code",
   "execution_count": 76,
   "metadata": {},
   "outputs": [
    {
     "data": {
      "text/plain": [
       "3062"
      ]
     },
     "execution_count": 76,
     "metadata": {},
     "output_type": "execute_result"
    }
   ],
   "source": [
    "len(df_ratings_1[df_ratings_1['rating'] > 5])"
   ]
  },
  {
   "cell_type": "code",
   "execution_count": 122,
   "metadata": {},
   "outputs": [
    {
     "data": {
      "text/plain": [
       "0.00012495418788531197"
      ]
     },
     "execution_count": 122,
     "metadata": {},
     "output_type": "execute_result"
    }
   ],
   "source": [
    "3062/len(df_ratings_1)"
   ]
  },
  {
   "cell_type": "code",
   "execution_count": 77,
   "metadata": {},
   "outputs": [
    {
     "data": {
      "text/plain": [
       "2230"
      ]
     },
     "execution_count": 77,
     "metadata": {},
     "output_type": "execute_result"
    }
   ],
   "source": [
    "len(df_ratings_1[df_ratings_1['rating'] < 0])"
   ]
  },
  {
   "cell_type": "markdown",
   "metadata": {},
   "source": [
    "Obtenemos unos 5000 registros fuera de rango, dado que las puntuaciones en las películas siempre se dan en escala 0-5, y que son un número muy pequeño, que creemos que no cambian la distribución de los ratings, si no que la mantiene, vamos a hacer rescalado de los datos por su valor en el rating aceptado mas cercano(0.5 y 5)"
   ]
  },
  {
   "cell_type": "code",
   "execution_count": 124,
   "metadata": {},
   "outputs": [
    {
     "data": {
      "text/plain": [
       "0.00021595609480374624"
      ]
     },
     "execution_count": 124,
     "metadata": {},
     "output_type": "execute_result"
    }
   ],
   "source": [
    "3062/len(df_ratings_1) + 2230/len(df_ratings_1)"
   ]
  },
  {
   "cell_type": "markdown",
   "metadata": {},
   "source": [
    "Es decir, tenemos un porcentaje de outliers de **0.0002**"
   ]
  },
  {
   "cell_type": "code",
   "execution_count": 107,
   "metadata": {},
   "outputs": [],
   "source": [
    "df_ratings_2 = df_ratings_1.copy()\n",
    "df_ratings_2['rating'].values[df_ratings_2['rating'] > 5] = 5"
   ]
  },
  {
   "cell_type": "code",
   "execution_count": 105,
   "metadata": {},
   "outputs": [
    {
     "data": {
      "text/plain": [
       "0"
      ]
     },
     "execution_count": 105,
     "metadata": {},
     "output_type": "execute_result"
    }
   ],
   "source": [
    "len(df_ratings_2[df_ratings_2['rating'] > 5])"
   ]
  },
  {
   "cell_type": "code",
   "execution_count": 109,
   "metadata": {},
   "outputs": [],
   "source": [
    "df_ratings_2['rating'].values[df_ratings_2['rating'] < 0] = 0.5"
   ]
  },
  {
   "cell_type": "code",
   "execution_count": 110,
   "metadata": {},
   "outputs": [
    {
     "data": {
      "text/plain": [
       "0"
      ]
     },
     "execution_count": 110,
     "metadata": {},
     "output_type": "execute_result"
    }
   ],
   "source": [
    "len(df_ratings_2[df_ratings_2['rating'] <0])"
   ]
  },
  {
   "cell_type": "markdown",
   "metadata": {},
   "source": [
    "Dado que  la consulta consiste en ordenar en función de los valores de la media de los ratings, no es necesaria una **normalización** de los datos. **Tampoco es necesario el procesado de las diferentes columnas, ya que no las vamos a usar.**\n",
    "\n",
    "\n",
    "Tras las tranformaciones hechas, **el porcentaje de outliers y missing values es del 0%**"
   ]
  },
  {
   "cell_type": "markdown",
   "metadata": {},
   "source": [
    "# Extracción de los generos de la BD"
   ]
  },
  {
   "cell_type": "code",
   "execution_count": 111,
   "metadata": {},
   "outputs": [],
   "source": [
    "col_genres = df_movies.genres.tolist()"
   ]
  },
  {
   "cell_type": "code",
   "execution_count": 112,
   "metadata": {},
   "outputs": [],
   "source": [
    "genres = set()\n",
    "for col in col_genres:\n",
    "    words = col.split('|')\n",
    "    genres.update(words)\n",
    "\n",
    "aux = list(genres)\n",
    "aux.sort()"
   ]
  },
  {
   "cell_type": "code",
   "execution_count": 113,
   "metadata": {},
   "outputs": [
    {
     "data": {
      "text/plain": [
       "{'(no genres listed)',\n",
       " 'Action',\n",
       " 'Adventure',\n",
       " 'Animation',\n",
       " 'Children',\n",
       " 'Comedy',\n",
       " 'Crime',\n",
       " 'Documentary',\n",
       " 'Drama',\n",
       " 'Espionage Action',\n",
       " 'Fantasy',\n",
       " 'Film-Noir',\n",
       " 'Horror',\n",
       " 'IMAX',\n",
       " 'Musical',\n",
       " 'Mystery',\n",
       " 'Psychological Thriller',\n",
       " 'Romance',\n",
       " 'Sci-Fi',\n",
       " 'Thriller',\n",
       " 'War',\n",
       " 'Western'}"
      ]
     },
     "execution_count": 113,
     "metadata": {},
     "output_type": "execute_result"
    }
   ],
   "source": [
    "genres"
   ]
  },
  {
   "cell_type": "code",
   "execution_count": 114,
   "metadata": {},
   "outputs": [
    {
     "name": "stderr",
     "output_type": "stream",
     "text": [
      "C:\\ProgramData\\Miniconda3\\lib\\site-packages\\pandas\\core\\strings\\accessor.py:101: UserWarning: This pattern has match groups. To actually get the groups, use str.extract.\n",
      "  return func(self, *args, **kwargs)\n"
     ]
    }
   ],
   "source": [
    "no_genres = df_movies.loc[df_movies['genres'].str.contains('(no genres listed)', case=False)]\n",
    "action = df_movies.loc[df_movies['genres'].str.contains(\"Action\", case=False)]\n",
    "aventures = df_movies.loc[df_movies['genres'].str.contains(\"Adventure\", case=False)]\n",
    "animation = df_movies.loc[df_movies['genres'].str.contains(\"Animation\", case=False)]\n",
    "children = df_movies.loc[df_movies['genres'].str.contains(\"Children\", case=False)]\n",
    "comedy = df_movies.loc[df_movies['genres'].str.contains(\"Comedy\", case=False)]\n",
    "crime = df_movies.loc[df_movies['genres'].str.contains(\"Crime\", case=False)]\n",
    "documentary = df_movies.loc[df_movies['genres'].str.contains(\"Documentary\", case=False)]\n",
    "drama = df_movies.loc[df_movies['genres'].str.contains(\"Drama\", case=False)]\n",
    "espionage = df_movies.loc[df_movies['genres'].str.contains(\"Espionage Action\", case=False)]\n",
    "fantasy = df_movies.loc[df_movies['genres'].str.contains(\"Fantasy\", case=False)]\n",
    "noir = df_movies.loc[df_movies['genres'].str.contains(\"Film-Noir\", case=False)]\n",
    "horror = df_movies.loc[df_movies['genres'].str.contains(\"Horror\", case=False)]\n",
    "imax = df_movies.loc[df_movies['genres'].str.contains(\"IMAX\", case=False)]\n",
    "musical = df_movies.loc[df_movies['genres'].str.contains(\"Musical\", case=False)]\n",
    "mystery = df_movies.loc[df_movies['genres'].str.contains(\"Mystery\", case=False)]\n",
    "psycho = df_movies.loc[df_movies['genres'].str.contains(\"Psychological Thriller\", case=False)]\n",
    "romance = df_movies.loc[df_movies['genres'].str.contains(\"Romance\", case=False)]\n",
    "sci_fi = df_movies.loc[df_movies['genres'].str.contains(\"Sci-Fi\", case=False)]\n",
    "thriller = df_movies.loc[df_movies['genres'].str.contains(\"Thriller\", case=False)]\n",
    "war = df_movies.loc[df_movies['genres'].str.contains(\"War\", case=False)]\n",
    "western = df_movies.loc[df_movies['genres'].str.contains(\"Western\", case=False)]"
   ]
  },
  {
   "cell_type": "markdown",
   "metadata": {},
   "source": [
    "# Consulta"
   ]
  },
  {
   "cell_type": "code",
   "execution_count": 118,
   "metadata": {},
   "outputs": [],
   "source": [
    "ratings1_nogen = df_ratings_2.loc[df_ratings_2['movieId'].isin(no_genres.movieId.tolist())]\n",
    "ratings1_action = df_ratings_2.loc[df_ratings_2['movieId'].isin(action.movieId.tolist())]\n",
    "ratings1_aventures = df_ratings_2.loc[df_ratings_2['movieId'].isin(aventures.movieId.tolist())]\n",
    "ratings1_animation = df_ratings_2.loc[df_ratings_2['movieId'].isin(animation.movieId.tolist())]\n",
    "ratings1_children = df_ratings_2.loc[df_ratings_2['movieId'].isin(children.movieId.tolist())]\n",
    "ratings1_comedy = df_ratings_2.loc[df_ratings_2['movieId'].isin(comedy.movieId.tolist())]\n",
    "ratings1_crime = df_ratings_2.loc[df_ratings_2['movieId'].isin(crime.movieId.tolist())]\n",
    "ratings1_documentary = df_ratings_2.loc[df_ratings_2['movieId'].isin(documentary.movieId.tolist())]\n",
    "ratings1_drama = df_ratings_2.loc[df_ratings_2['movieId'].isin(drama.movieId.tolist())]\n",
    "ratings1_espionage = df_ratings_2.loc[df_ratings_2['movieId'].isin(espionage.movieId.tolist())]\n",
    "ratings1_fantasy = df_ratings_2.loc[df_ratings_2['movieId'].isin(fantasy.movieId.tolist())]\n",
    "ratings1_noir = df_ratings_2.loc[df_ratings_2['movieId'].isin(noir.movieId.tolist())]\n",
    "ratings1_horror = df_ratings_2.loc[df_ratings_2['movieId'].isin(horror.movieId.tolist())]\n",
    "ratings1_imax = df_ratings_2.loc[df_ratings_2['movieId'].isin(imax.movieId.tolist())]\n",
    "ratings1_musical = df_ratings_2.loc[df_ratings_2['movieId'].isin(musical.movieId.tolist())]\n",
    "ratings1_mystery = df_ratings_2.loc[df_ratings_2['movieId'].isin(mystery.movieId.tolist())]\n",
    "ratings1_psycho = df_ratings_2.loc[df_ratings_2['movieId'].isin(thriller.movieId.tolist())]\n",
    "ratings1_romance = df_ratings_2.loc[df_ratings_2['movieId'].isin(romance.movieId.tolist())]\n",
    "ratings1_sci_fi = df_ratings_2.loc[df_ratings_2['movieId'].isin(sci_fi.movieId.tolist())]\n",
    "ratings1_thriller = df_ratings_2.loc[df_ratings_2['movieId'].isin(thriller.movieId.tolist())]\n",
    "ratings1_war = df_ratings_2.loc[df_ratings_2['movieId'].isin(war.movieId.tolist())]\n",
    "ratings1_western = df_ratings_2.loc[df_ratings_2['movieId'].isin(western.movieId.tolist())]"
   ]
  },
  {
   "cell_type": "code",
   "execution_count": 119,
   "metadata": {},
   "outputs": [],
   "source": [
    "ratings1 = list()\n",
    "ratings1.append(ratings1_action['rating'].mean())\n",
    "ratings1.append(ratings1_aventures['rating'].mean())\n",
    "ratings1.append(ratings1_animation ['rating'].mean())\n",
    "ratings1.append(ratings1_children ['rating'].mean())\n",
    "ratings1.append(ratings1_comedy['rating'].mean())\n",
    "ratings1.append(ratings1_crime['rating'].mean())\n",
    "ratings1.append(ratings1_documentary['rating'].mean())\n",
    "ratings1.append(ratings1_drama['rating'].mean())\n",
    "ratings1.append(ratings1_espionage['rating'].mean())\n",
    "ratings1.append(ratings1_fantasy['rating'].mean())\n",
    "ratings1.append(ratings1_noir['rating'].mean())\n",
    "ratings1.append(ratings1_horror['rating'].mean())\n",
    "ratings1.append(ratings1_imax['rating'].mean())\n",
    "ratings1.append(ratings1_musical ['rating'].mean())\n",
    "ratings1.append(ratings1_mystery ['rating'].mean())\n",
    "ratings1.append(ratings1_psycho['rating'].mean())\n",
    "ratings1.append(ratings1_romance ['rating'].mean())\n",
    "ratings1.append(ratings1_sci_fi['rating'].mean())\n",
    "ratings1.append(ratings1_thriller['rating'].mean())\n",
    "ratings1.append(ratings1_war['rating'].mean())\n",
    "ratings1.append(ratings1_western['rating'].mean())\n",
    "\n",
    "table_rat1 = pd.DataFrame(list(zip(list(genres),ratings1)), columns=['genre', 'rating'])"
   ]
  },
  {
   "cell_type": "code",
   "execution_count": 121,
   "metadata": {},
   "outputs": [
    {
     "data": {
      "text/html": [
       "<div>\n",
       "<style scoped>\n",
       "    .dataframe tbody tr th:only-of-type {\n",
       "        vertical-align: middle;\n",
       "    }\n",
       "\n",
       "    .dataframe tbody tr th {\n",
       "        vertical-align: top;\n",
       "    }\n",
       "\n",
       "    .dataframe thead th {\n",
       "        text-align: right;\n",
       "    }\n",
       "</style>\n",
       "<table border=\"1\" class=\"dataframe\">\n",
       "  <thead>\n",
       "    <tr style=\"text-align: right;\">\n",
       "      <th></th>\n",
       "      <th>genre</th>\n",
       "      <th>rating</th>\n",
       "    </tr>\n",
       "  </thead>\n",
       "  <tbody>\n",
       "    <tr>\n",
       "      <th>10</th>\n",
       "      <td>Documentary</td>\n",
       "      <td>3.925239</td>\n",
       "    </tr>\n",
       "    <tr>\n",
       "      <th>19</th>\n",
       "      <td>Western</td>\n",
       "      <td>3.790905</td>\n",
       "    </tr>\n",
       "    <tr>\n",
       "      <th>6</th>\n",
       "      <td>Action</td>\n",
       "      <td>3.705085</td>\n",
       "    </tr>\n",
       "    <tr>\n",
       "      <th>5</th>\n",
       "      <td>Horror</td>\n",
       "      <td>3.684708</td>\n",
       "    </tr>\n",
       "    <tr>\n",
       "      <th>7</th>\n",
       "      <td>Psychological Thriller</td>\n",
       "      <td>3.676786</td>\n",
       "    </tr>\n",
       "    <tr>\n",
       "      <th>14</th>\n",
       "      <td>Espionage Action</td>\n",
       "      <td>3.669913</td>\n",
       "    </tr>\n",
       "    <tr>\n",
       "      <th>2</th>\n",
       "      <td>Thriller</td>\n",
       "      <td>3.614761</td>\n",
       "    </tr>\n",
       "    <tr>\n",
       "      <th>12</th>\n",
       "      <td>(no genres listed)</td>\n",
       "      <td>3.603185</td>\n",
       "    </tr>\n",
       "    <tr>\n",
       "      <th>20</th>\n",
       "      <td>IMAX</td>\n",
       "      <td>3.584755</td>\n",
       "    </tr>\n",
       "    <tr>\n",
       "      <th>13</th>\n",
       "      <td>Romance</td>\n",
       "      <td>3.554235</td>\n",
       "    </tr>\n",
       "  </tbody>\n",
       "</table>\n",
       "</div>"
      ],
      "text/plain": [
       "                     genre    rating\n",
       "10             Documentary  3.925239\n",
       "19                 Western  3.790905\n",
       "6                   Action  3.705085\n",
       "5                   Horror  3.684708\n",
       "7   Psychological Thriller  3.676786\n",
       "14        Espionage Action  3.669913\n",
       "2                 Thriller  3.614761\n",
       "12      (no genres listed)  3.603185\n",
       "20                    IMAX  3.584755\n",
       "13                 Romance  3.554235"
      ]
     },
     "execution_count": 121,
     "metadata": {},
     "output_type": "execute_result"
    }
   ],
   "source": [
    "table_rat1.sort_values(by=['rating'], ascending=False).head(10)"
   ]
  },
  {
   "cell_type": "markdown",
   "metadata": {},
   "source": [
    "Este es el listado de géneros por rating(top 10). Tal vez el género 'sin genero listado' deberíamos omitirlo, pero dado su importancia en el dataset, decicimos mantenerlo. Esto es debido a que hay un número considerablemente alto de peliculas  no catalogadas, que no debemos ignorar, para ser conscientes de las carencia tan importante que supone dicha base de datos en  nuestra consulta."
   ]
  },
  {
   "cell_type": "markdown",
   "metadata": {},
   "source": [
    "# Exportación de la consulta al fichero\n",
    "\n",
    "Dado que ya hemos porgramado la consulta, el modo más eficiente de consultarla, valga la redundancia, es ver únicamente los resultados de la consulta. Generamos un fichero 'pelis_procesadas.csv' con el resutlado de la misma."
   ]
  },
  {
   "cell_type": "code",
   "execution_count": 132,
   "metadata": {},
   "outputs": [],
   "source": [
    "table_rat1.to_csv('pelis_procesadas.csv',index=False)"
   ]
  },
  {
   "cell_type": "markdown",
   "metadata": {},
   "source": [
    "El formato del fichero de salida es 'género' y 'rating medio del género'. Ordenados por el rating medio."
   ]
  },
  {
   "cell_type": "markdown",
   "metadata": {},
   "source": [
    "# ---Método Alternativo: Remplazamiento de los outliers\n",
    "\n",
    "Para ver como afecta nuestra suposición de que los outliers se tenían que sustituir por los valores más cercanos(mínimo o máximo de los ratings), vamos a ver cómo cambiar el ranking de la consulta si cambiamos el método de sustitución por la media de todas las puntuaciones totales."
   ]
  },
  {
   "cell_type": "code",
   "execution_count": 133,
   "metadata": {},
   "outputs": [
    {
     "name": "stderr",
     "output_type": "stream",
     "text": [
      "C:\\ProgramData\\Miniconda3\\lib\\site-packages\\pandas\\core\\indexing.py:1720: SettingWithCopyWarning: \n",
      "A value is trying to be set on a copy of a slice from a DataFrame.\n",
      "Try using .loc[row_indexer,col_indexer] = value instead\n",
      "\n",
      "See the caveats in the documentation: https://pandas.pydata.org/pandas-docs/stable/user_guide/indexing.html#returning-a-view-versus-a-copy\n",
      "  self._setitem_single_column(loc, value, pi)\n",
      "C:\\ProgramData\\Miniconda3\\lib\\site-packages\\pandas\\core\\indexing.py:1720: SettingWithCopyWarning: \n",
      "A value is trying to be set on a copy of a slice from a DataFrame.\n",
      "Try using .loc[row_indexer,col_indexer] = value instead\n",
      "\n",
      "See the caveats in the documentation: https://pandas.pydata.org/pandas-docs/stable/user_guide/indexing.html#returning-a-view-versus-a-copy\n",
      "  self._setitem_single_column(loc, value, pi)\n"
     ]
    },
    {
     "data": {
      "text/html": [
       "<div>\n",
       "<style scoped>\n",
       "    .dataframe tbody tr th:only-of-type {\n",
       "        vertical-align: middle;\n",
       "    }\n",
       "\n",
       "    .dataframe tbody tr th {\n",
       "        vertical-align: top;\n",
       "    }\n",
       "\n",
       "    .dataframe thead th {\n",
       "        text-align: right;\n",
       "    }\n",
       "</style>\n",
       "<table border=\"1\" class=\"dataframe\">\n",
       "  <thead>\n",
       "    <tr style=\"text-align: right;\">\n",
       "      <th></th>\n",
       "      <th>genre</th>\n",
       "      <th>rating</th>\n",
       "    </tr>\n",
       "  </thead>\n",
       "  <tbody>\n",
       "    <tr>\n",
       "      <th>11</th>\n",
       "      <td>(no genres listed)</td>\n",
       "      <td>3.924775</td>\n",
       "    </tr>\n",
       "    <tr>\n",
       "      <th>20</th>\n",
       "      <td>Animation</td>\n",
       "      <td>3.790411</td>\n",
       "    </tr>\n",
       "    <tr>\n",
       "      <th>7</th>\n",
       "      <td>Musical</td>\n",
       "      <td>3.704676</td>\n",
       "    </tr>\n",
       "    <tr>\n",
       "      <th>6</th>\n",
       "      <td>Psychological Thriller</td>\n",
       "      <td>3.684254</td>\n",
       "    </tr>\n",
       "    <tr>\n",
       "      <th>8</th>\n",
       "      <td>Drama</td>\n",
       "      <td>3.676340</td>\n",
       "    </tr>\n",
       "    <tr>\n",
       "      <th>15</th>\n",
       "      <td>Mystery</td>\n",
       "      <td>3.669411</td>\n",
       "    </tr>\n",
       "    <tr>\n",
       "      <th>3</th>\n",
       "      <td>Sci-Fi</td>\n",
       "      <td>3.614207</td>\n",
       "    </tr>\n",
       "    <tr>\n",
       "      <th>13</th>\n",
       "      <td>Espionage Action</td>\n",
       "      <td>3.602726</td>\n",
       "    </tr>\n",
       "    <tr>\n",
       "      <th>14</th>\n",
       "      <td>Fantasy</td>\n",
       "      <td>3.553766</td>\n",
       "    </tr>\n",
       "    <tr>\n",
       "      <th>17</th>\n",
       "      <td>Film-Noir</td>\n",
       "      <td>3.541947</td>\n",
       "    </tr>\n",
       "  </tbody>\n",
       "</table>\n",
       "</div>"
      ],
      "text/plain": [
       "                     genre    rating\n",
       "11      (no genres listed)  3.924775\n",
       "20               Animation  3.790411\n",
       "7                  Musical  3.704676\n",
       "6   Psychological Thriller  3.684254\n",
       "8                    Drama  3.676340\n",
       "15                 Mystery  3.669411\n",
       "3                   Sci-Fi  3.614207\n",
       "13        Espionage Action  3.602726\n",
       "14                 Fantasy  3.553766\n",
       "17               Film-Noir  3.541947"
      ]
     },
     "execution_count": 133,
     "metadata": {},
     "output_type": "execute_result"
    }
   ],
   "source": [
    "df_ratings_3 = df_ratings.dropna()\n",
    "\n",
    "\n",
    "median = df_ratings_3['rating'].between(0.5, 5).median()\n",
    "df_ratings_3.loc[df_ratings_3['rating'] > 5, 'rating'] = median\n",
    "df_ratings_3.loc[df_ratings_3['rating'] < 0.5, 'rating'] = median\n",
    "\n",
    "ratings2_nogen = df_ratings_3.loc[df_ratings_3['movieId'].isin(no_genres.movieId.tolist())]\n",
    "ratings2_action = df_ratings_3.loc[df_ratings_3['movieId'].isin(action.movieId.tolist())]\n",
    "ratings2_aventures = df_ratings_3.loc[df_ratings_3['movieId'].isin(aventures.movieId.tolist())]\n",
    "ratings2_animation = df_ratings_3.loc[df_ratings_3['movieId'].isin(animation.movieId.tolist())]\n",
    "ratings2_children = df_ratings_3.loc[df_ratings_3['movieId'].isin(children.movieId.tolist())]\n",
    "ratings2_comedy = df_ratings_3.loc[df_ratings_3['movieId'].isin(comedy.movieId.tolist())]\n",
    "ratings2_crime = df_ratings_3.loc[df_ratings_3['movieId'].isin(crime.movieId.tolist())]\n",
    "ratings2_documentary = df_ratings_3.loc[df_ratings_3['movieId'].isin(documentary.movieId.tolist())]\n",
    "ratings2_drama = df_ratings_3.loc[df_ratings_3['movieId'].isin(drama.movieId.tolist())]\n",
    "ratings2_espionage = df_ratings_3.loc[df_ratings_3['movieId'].isin(espionage.movieId.tolist())]\n",
    "ratings2_fantasy = df_ratings_3.loc[df_ratings_3['movieId'].isin(fantasy.movieId.tolist())]\n",
    "ratings2_noir = df_ratings_3.loc[df_ratings_3['movieId'].isin(noir.movieId.tolist())]\n",
    "ratings2_horror = df_ratings_3.loc[df_ratings_3['movieId'].isin(horror.movieId.tolist())]\n",
    "ratings2_imax = df_ratings_3.loc[df_ratings_3['movieId'].isin(imax.movieId.tolist())]\n",
    "ratings2_musical = df_ratings_3.loc[df_ratings_3['movieId'].isin(musical.movieId.tolist())]\n",
    "ratings2_mystery = df_ratings_3.loc[df_ratings_3['movieId'].isin(mystery.movieId.tolist())]\n",
    "ratings2_psycho = df_ratings_3.loc[df_ratings_3['movieId'].isin(thriller.movieId.tolist())]\n",
    "ratings2_romance = df_ratings_3.loc[df_ratings_3['movieId'].isin(romance.movieId.tolist())]\n",
    "ratings2_sci_fi = df_ratings_3.loc[df_ratings_3['movieId'].isin(sci_fi.movieId.tolist())]\n",
    "ratings2_thriller = df_ratings_3.loc[df_ratings_3['movieId'].isin(thriller.movieId.tolist())]\n",
    "ratings2_war = df_ratings_3.loc[df_ratings_3['movieId'].isin(war.movieId.tolist())]\n",
    "ratings2_western = df_ratings_3.loc[df_ratings_3['movieId'].isin(western.movieId.tolist())]\n",
    "\n",
    "ratings2 = list()\n",
    "ratings2.append(ratings2_nogen['rating'].mean())\n",
    "ratings2.append(ratings2_action['rating'].mean())\n",
    "ratings2.append(ratings2_aventures['rating'].mean())\n",
    "ratings2.append(ratings2_animation ['rating'].mean())\n",
    "ratings2.append(ratings2_children ['rating'].mean())\n",
    "ratings2.append(ratings2_comedy['rating'].mean())\n",
    "ratings2.append(ratings2_crime['rating'].mean())\n",
    "ratings2.append(ratings2_documentary['rating'].mean())\n",
    "ratings2.append(ratings2_drama['rating'].mean())\n",
    "ratings2.append(ratings2_espionage['rating'].mean())\n",
    "ratings2.append(ratings2_fantasy['rating'].mean())\n",
    "ratings2.append(ratings2_noir['rating'].mean())\n",
    "ratings2.append(ratings2_horror['rating'].mean())\n",
    "ratings2.append(ratings2_imax['rating'].mean())\n",
    "ratings2.append(ratings2_musical ['rating'].mean())\n",
    "ratings2.append(ratings2_mystery ['rating'].mean())\n",
    "ratings2.append(ratings2_psycho['rating'].mean())\n",
    "ratings2.append(ratings2_romance ['rating'].mean())\n",
    "ratings2.append(ratings2_sci_fi['rating'].mean())\n",
    "ratings2.append(ratings2_thriller['rating'].mean())\n",
    "ratings2.append(ratings2_war['rating'].mean())\n",
    "ratings2.append(ratings2_western['rating'].mean())\n",
    "\n",
    "table_rat2 = pd.DataFrame(list(zip(list(genres)[1:],ratings2)), columns=['genre', 'rating'])\n",
    "\n",
    "table_rat2.sort_values(by=['rating'], ascending=False).head(10)"
   ]
  },
  {
   "cell_type": "markdown",
   "metadata": {},
   "source": [
    "Observamos como el remplazamiento de los valores de los outliers tiene un gran impacto, sobretodo porque el top 4 del ranking anterior ni siquiera aparece en el top 10 de este nuevo ranking. COncluimos que el método de remplazamiento de outliers y missing values puede llegar a ser crítico para sacar conclusiones, ya que diferentes métodos, nos pueden llegar a dar conclusiones distintas. Sin embargo, en este caso, mantenemos el método original, por considerar más razonable los valores dados a los outliers en el mismo, dada la naturaleza de los datos y el contexto de los mismos."
   ]
  }
 ],
 "metadata": {
  "kernelspec": {
   "display_name": "Python 3 (ipykernel)",
   "language": "python",
   "name": "python3"
  },
  "language_info": {
   "codemirror_mode": {
    "name": "ipython",
    "version": 3
   },
   "file_extension": ".py",
   "mimetype": "text/x-python",
   "name": "python",
   "nbconvert_exporter": "python",
   "pygments_lexer": "ipython3",
   "version": "3.8.5"
  }
 },
 "nbformat": 4,
 "nbformat_minor": 4
}
